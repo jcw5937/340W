{
  "cells": [
    {
      "cell_type": "markdown",
      "metadata": {
        "id": "view-in-github",
        "colab_type": "text"
      },
      "source": [
        "<a href=\"https://colab.research.google.com/github/jcw5937/340W/blob/main/data_resplit_70_10_20.ipynb\" target=\"_parent\"><img src=\"https://colab.research.google.com/assets/colab-badge.svg\" alt=\"Open In Colab\"/></a>"
      ]
    },
    {
      "cell_type": "markdown",
      "id": "5f23afc4",
      "metadata": {
        "id": "5f23afc4"
      },
      "source": [
        "\n",
        "# CBIS-DDSM Calc/Mass 70/10/20 Re-split (No Adjustments)\n",
        "\n",
        "This notebook does the following:\n",
        "1. Load the provided **calc** and **mass** *train* and *test* CSVs.  \n",
        "2. Merge the splits within each category (calc-only, mass-only).  \n",
        "3. Apply **one random shuffle** and split into **70% train / 10% val / 20% test**.  \n",
        "4. Save the new CSVs.\n",
        "\n",
        "no stratification, no column changes"
      ]
    },
    {
      "cell_type": "code",
      "execution_count": 1,
      "id": "e8bcbabe",
      "metadata": {
        "colab": {
          "base_uri": "https://localhost:8080/"
        },
        "id": "e8bcbabe",
        "outputId": "fb64bd25-d4bd-4a92-a18c-98e81966d977"
      },
      "outputs": [
        {
          "output_type": "stream",
          "name": "stdout",
          "text": [
            "Mounted at /content/drive\n"
          ]
        }
      ],
      "source": [
        "\n",
        "from pathlib import Path\n",
        "import pandas as pd\n",
        "import numpy as np\n",
        "from google.colab import drive\n",
        "\n",
        "# Paths\n",
        "drive.mount('/content/drive')\n",
        "base_dir = Path('/content/drive/MyDrive/340W/Breast-Cancer-Data')  # Folder contains the old data\n",
        "\n",
        "calc_train_path = base_dir / 'calc_case_description_train_set.csv'\n",
        "calc_test_path  = base_dir / 'calc_case_description_test_set.csv'\n",
        "\n",
        "mass_train_path = base_dir / 'mass_case_description_train_set.csv'\n",
        "mass_test_path  = base_dir / 'mass_case_description_test_set.csv'\n",
        "\n",
        "# Output folder\n",
        "out_dir = Path('/content/drive/MyDrive/340W/Adj-Breast-Cancer-Data')  # Directory for new adjusted data\n",
        "\n",
        "# ---- Split settings ----\n",
        "TRAIN_FRAC = 0.70\n",
        "VAL_FRAC   = 0.10\n",
        "TEST_FRAC  = 0.20\n",
        "# Adjust for floating point numbers:\n",
        "# ie: 0.70 + 0.10 + 0.20 does not equal 1 exactly\n",
        "# Make sure the three fractions add up to 1.0, give or take a billionth\n",
        "assert abs((TRAIN_FRAC + VAL_FRAC + TEST_FRAC) - 1.0) < 1e-9, \"Fractions must sum to 1.\"\n",
        "\n",
        "\n",
        "SEED = 42      # random split\n",
        "SHUFFLE = True # single shuffle before splitting\n"
      ]
    },
    {
      "cell_type": "code",
      "execution_count": 2,
      "id": "e44ab508",
      "metadata": {
        "id": "e44ab508"
      },
      "outputs": [],
      "source": [
        "\n",
        "def simple_split(df: pd.DataFrame, train_frac=0.7, val_frac=0.1, test_frac=0.2, seed=42, shuffle=True):\n",
        "    \"\"\"\n",
        "    Return train, val, test DataFrames from a single random shuffle.\n",
        "    \"\"\"\n",
        "    n = len(df)\n",
        "    rng = np.random.default_rng(seed) # NumPy random number generator\n",
        "    idx = np.arange(n) # Builds an array [0, 1, 2, ..., n-1] representing row indices\n",
        "    if shuffle: # With a fixed seed, you get the same shuffle every time\n",
        "        rng.shuffle(idx)\n",
        "    train_end = int(n * train_frac) # how many rows go into train\n",
        "    val_end   = train_end + int(n * val_frac) # how many rows to validation\n",
        "    train_idx = idx[:train_end]\n",
        "    val_idx   = idx[train_end:val_end]\n",
        "    test_idx  = idx[val_end:]\n",
        "    # Uses .iloc (position-based selection) to pull rows for each split\n",
        "    return df.iloc[train_idx].copy(), df.iloc[val_idx].copy(), df.iloc[test_idx].copy()\n"
      ]
    },
    {
      "cell_type": "code",
      "execution_count": 3,
      "id": "540f7208",
      "metadata": {
        "id": "540f7208",
        "colab": {
          "base_uri": "https://localhost:8080/"
        },
        "outputId": "ba3aed65-1efd-4187-c0d3-1673a9d4bcf0"
      },
      "outputs": [
        {
          "output_type": "stream",
          "name": "stdout",
          "text": [
            "Loaded shapes:\n",
            "calc_train: (1546, 14) | calc_test: (326, 14)\n",
            "mass_train: (1318, 14) | mass_test: (378, 14)\n"
          ]
        }
      ],
      "source": [
        "\n",
        "# Load without modification\n",
        "\n",
        "calc_train = pd.read_csv(calc_train_path)\n",
        "calc_test  = pd.read_csv(calc_test_path)\n",
        "\n",
        "mass_train = pd.read_csv(mass_train_path)\n",
        "mass_test  = pd.read_csv(mass_test_path)\n",
        "\n",
        "print(\"Loaded shapes:\")\n",
        "print(\"calc_train:\", calc_train.shape, \"| calc_test:\", calc_test.shape)\n",
        "print(\"mass_train:\", mass_train.shape, \"| mass_test:\", mass_test.shape)\n"
      ]
    },
    {
      "cell_type": "code",
      "execution_count": 4,
      "id": "aebe5a6e",
      "metadata": {
        "id": "aebe5a6e",
        "colab": {
          "base_uri": "https://localhost:8080/"
        },
        "outputId": "359ce796-a4d2-4068-ca67-2d7fdbaa89ab"
      },
      "outputs": [
        {
          "output_type": "stream",
          "name": "stdout",
          "text": [
            "Merged shapes:\n",
            "calc_merged: (1872, 14)\n",
            "mass_merged: (1696, 14)\n"
          ]
        }
      ],
      "source": [
        "\n",
        "calc_merged = pd.concat([calc_train, calc_test], axis=0, ignore_index=True) #stacking rows from calc_train and calc_test\n",
        "mass_merged = pd.concat([mass_train, mass_test], axis=0, ignore_index=True) #stacking rows from Mass_train and mass_test\n",
        "\n",
        "print(\"Merged shapes:\")\n",
        "print(\"calc_merged:\", calc_merged.shape)\n",
        "print(\"mass_merged:\", mass_merged.shape)\n"
      ]
    },
    {
      "cell_type": "code",
      "execution_count": 5,
      "id": "36670524",
      "metadata": {
        "id": "36670524",
        "colab": {
          "base_uri": "https://localhost:8080/"
        },
        "outputId": "e0bdff8c-8c0c-474a-870e-99af704a4047"
      },
      "outputs": [
        {
          "output_type": "stream",
          "name": "stdout",
          "text": [
            "Calc-only new splits:\n",
            "  Train: (1310, 14)\n",
            "  Val  : (187, 14)\n",
            "  Test : (375, 14)\n"
          ]
        }
      ],
      "source": [
        "\n",
        "# call simple_split function on the calc dataframe\n",
        "calc_train_new, calc_val_new, calc_test_new = simple_split(\n",
        "    calc_merged,\n",
        "    train_frac=TRAIN_FRAC, val_frac=VAL_FRAC, test_frac=TEST_FRAC,\n",
        "    seed=SEED, shuffle=SHUFFLE\n",
        ")\n",
        "\n",
        "print(\"Calc-only new splits:\")\n",
        "print(\"  Train:\", calc_train_new.shape)\n",
        "print(\"  Val  :\", calc_val_new.shape)\n",
        "print(\"  Test :\", calc_test_new.shape)\n"
      ]
    },
    {
      "cell_type": "code",
      "execution_count": 6,
      "id": "a1eef3f7",
      "metadata": {
        "id": "a1eef3f7",
        "colab": {
          "base_uri": "https://localhost:8080/"
        },
        "outputId": "3c9ca97f-1ff5-4159-fbe0-1c26889388fa"
      },
      "outputs": [
        {
          "output_type": "stream",
          "name": "stdout",
          "text": [
            "Mass-only new splits:\n",
            "  Train: (1187, 14)\n",
            "  Val  : (169, 14)\n",
            "  Test : (340, 14)\n"
          ]
        }
      ],
      "source": [
        "# call simple_split function on the mass dataframe\n",
        "mass_train_new, mass_val_new, mass_test_new = simple_split(\n",
        "    mass_merged,\n",
        "    train_frac=TRAIN_FRAC, val_frac=VAL_FRAC, test_frac=TEST_FRAC,\n",
        "    seed=SEED, shuffle=SHUFFLE\n",
        ")\n",
        "\n",
        "print(\"Mass-only new splits:\")\n",
        "print(\"  Train:\", mass_train_new.shape)\n",
        "print(\"  Val  :\", mass_val_new.shape)\n",
        "print(\"  Test :\", mass_test_new.shape)\n"
      ]
    },
    {
      "cell_type": "code",
      "execution_count": 7,
      "id": "64b835af",
      "metadata": {
        "id": "64b835af",
        "colab": {
          "base_uri": "https://localhost:8080/"
        },
        "outputId": "ae97fa34-17a6-40e4-e7a2-50a4730a0485"
      },
      "outputs": [
        {
          "output_type": "stream",
          "name": "stdout",
          "text": [
            "Wrote:\n",
            " - /content/drive/MyDrive/340W/Adj-Breast-Cancer-Data/calc_merged_train_70_10_20_nostrat.csv\n",
            " - /content/drive/MyDrive/340W/Adj-Breast-Cancer-Data/calc_merged_val_70_10_20_nostrat.csv\n",
            " - /content/drive/MyDrive/340W/Adj-Breast-Cancer-Data/calc_merged_test_70_10_20_nostrat.csv\n",
            " - /content/drive/MyDrive/340W/Adj-Breast-Cancer-Data/mass_merged_train_70_10_20_nostrat.csv\n",
            " - /content/drive/MyDrive/340W/Adj-Breast-Cancer-Data/mass_merged_val_70_10_20_nostrat.csv\n",
            " - /content/drive/MyDrive/340W/Adj-Breast-Cancer-Data/mass_merged_test_70_10_20_nostrat.csv\n"
          ]
        }
      ],
      "source": [
        "\n",
        "# Building path files\n",
        "calc_train_out = out_dir / 'calc_merged_train_70_10_20_nostrat.csv'\n",
        "calc_val_out   = out_dir / 'calc_merged_val_70_10_20_nostrat.csv'\n",
        "calc_test_out  = out_dir / 'calc_merged_test_70_10_20_nostrat.csv'\n",
        "\n",
        "mass_train_out = out_dir / 'mass_merged_train_70_10_20_nostrat.csv'\n",
        "mass_val_out   = out_dir / 'mass_merged_val_70_10_20_nostrat.csv'\n",
        "mass_test_out  = out_dir / 'mass_merged_test_70_10_20_nostrat.csv'\n",
        "\n",
        "# Saving to correct paths\n",
        "calc_train_new.to_csv(calc_train_out, index=False)\n",
        "calc_val_new.to_csv(calc_val_out, index=False)\n",
        "calc_test_new.to_csv(calc_test_out, index=False)\n",
        "\n",
        "mass_train_new.to_csv(mass_train_out, index=False)\n",
        "mass_val_new.to_csv(mass_val_out, index=False)\n",
        "mass_test_new.to_csv(mass_test_out, index=False)\n",
        "\n",
        "# Prints a header so the next lines read nicely in the console\n",
        "print(\"Wrote:\")\n",
        "for p in [calc_train_out, calc_val_out, calc_test_out, mass_train_out, mass_val_out, mass_test_out]:\n",
        "    print(\" -\", p)\n"
      ]
    },
    {
      "cell_type": "code",
      "execution_count": 8,
      "id": "526070de",
      "metadata": {
        "id": "526070de",
        "colab": {
          "base_uri": "https://localhost:8080/"
        },
        "outputId": "4790d7f8-822c-4bae-fc4d-4226fdd94064"
      },
      "outputs": [
        {
          "output_type": "stream",
          "name": "stdout",
          "text": [
            "Sanity checks passed: splits are disjoint for both calc and mass.\n"
          ]
        }
      ],
      "source": [
        "\n",
        "# Sanity checks: verify that splits don’t overlap\n",
        "def check_disjoint_and_cover(a, b, c): # a: train, b: val, c: test\n",
        "    # Convert each DataFrame’s index values into sets. Treats the index as the unique row ID\n",
        "    a_ids = set(a.index)\n",
        "    b_ids = set(b.index)\n",
        "    c_ids = set(c.index)\n",
        "    assert a_ids.isdisjoint(b_ids) # Fail if any row index appears in both a and b\n",
        "    assert a_ids.isdisjoint(c_ids) # Fail if any row index appears in both a and c\n",
        "    assert b_ids.isdisjoint(c_ids) # Fail if any row index appears in both b and c\n",
        "\n",
        "# Note: since we copied slices, indices are preserved from the merged df; this is fine for the check.\n",
        "check_disjoint_and_cover(calc_train_new, calc_val_new, calc_test_new)\n",
        "check_disjoint_and_cover(mass_train_new, mass_val_new, mass_test_new)\n",
        "\n",
        "print(\"Sanity checks passed: splits are disjoint for both calc and mass.\")\n"
      ]
    }
  ],
  "metadata": {
    "colab": {
      "provenance": [],
      "include_colab_link": true
    },
    "language_info": {
      "name": "python"
    },
    "kernelspec": {
      "name": "python3",
      "display_name": "Python 3"
    }
  },
  "nbformat": 4,
  "nbformat_minor": 5
}